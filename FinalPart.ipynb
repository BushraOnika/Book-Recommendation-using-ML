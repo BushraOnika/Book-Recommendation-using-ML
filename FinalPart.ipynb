{
  "cells": [
    {
      "cell_type": "markdown",
      "metadata": {
        "id": "SDtDjNQQIWKR"
      },
      "source": [
        "**BOOK RECOMMENDATION SYSTEM USING ML**"
      ]
    },
    {
      "cell_type": "markdown",
      "metadata": {
        "id": "ECzqj0V-I3_Q"
      },
      "source": [
        "Import Library/Access Drive for data read\n"
      ]
    },
    {
      "cell_type": "code",
      "execution_count": 1,
      "metadata": {},
      "outputs": [
        {
          "name": "stdout",
          "output_type": "stream",
          "text": [
            "^C\n",
            "Note: you may need to restart the kernel to use updated packages.\n"
          ]
        }
      ],
      "source": [
        "pip install pandas"
      ]
    },
    {
      "cell_type": "code",
      "execution_count": null,
      "metadata": {},
      "outputs": [],
      "source": [
        "pip install numpy\n",
        "pip install matplotlib\n"
      ]
    },
    {
      "cell_type": "code",
      "execution_count": 2,
      "metadata": {
        "colab": {
          "base_uri": "https://localhost:8080/"
        },
        "id": "--ldACohI-ye",
        "outputId": "918e4dff-a1e4-4218-a993-0a3fb3b90444"
      },
      "outputs": [
        {
          "ename": "ModuleNotFoundError",
          "evalue": "No module named 'pandas'",
          "output_type": "error",
          "traceback": [
            "\u001b[1;31m---------------------------------------------------------------------------\u001b[0m",
            "\u001b[1;31mModuleNotFoundError\u001b[0m                       Traceback (most recent call last)",
            "Cell \u001b[1;32mIn[2], line 3\u001b[0m\n\u001b[0;32m      1\u001b[0m \u001b[38;5;66;03m#from google.colab import drive\u001b[39;00m\n\u001b[0;32m      2\u001b[0m \u001b[38;5;66;03m#drive.mount('/content/drive')\u001b[39;00m\n\u001b[1;32m----> 3\u001b[0m \u001b[38;5;28;01mimport\u001b[39;00m \u001b[38;5;21;01mpandas\u001b[39;00m \u001b[38;5;28;01mas\u001b[39;00m \u001b[38;5;21;01mpd\u001b[39;00m\n\u001b[0;32m      4\u001b[0m \u001b[38;5;28;01mimport\u001b[39;00m \u001b[38;5;21;01mnumpy\u001b[39;00m \u001b[38;5;28;01mas\u001b[39;00m \u001b[38;5;21;01mnp\u001b[39;00m\n\u001b[0;32m      5\u001b[0m \u001b[38;5;28;01mfrom\u001b[39;00m \u001b[38;5;21;01mdatetime\u001b[39;00m \u001b[38;5;28;01mimport\u001b[39;00m datetime, timedelta\n",
            "\u001b[1;31mModuleNotFoundError\u001b[0m: No module named 'pandas'"
          ]
        }
      ],
      "source": [
        "#from google.colab import drive\n",
        "#drive.mount('/content/drive')\n",
        "import pandas as pd\n",
        "import numpy as np\n",
        "from datetime import datetime, timedelta\n",
        "import matplotlib.pyplot as plt\n",
        "import seaborn as sns\n",
        "from sklearn.model_selection import train_test_split\n"
      ]
    },
    {
      "cell_type": "markdown",
      "metadata": {
        "id": "6WZ5z7slJHjk"
      },
      "source": [
        "**EDA PART**"
      ]
    },
    {
      "cell_type": "code",
      "execution_count": null,
      "metadata": {
        "colab": {
          "base_uri": "https://localhost:8080/"
        },
        "id": "FPRfmq1AJRAa",
        "outputId": "5b1f8a54-d1bb-4da1-bf0d-ca8a8c94df0b"
      },
      "outputs": [
        {
          "name": "stderr",
          "output_type": "stream",
          "text": [
            "<ipython-input-2-ec0b32407243>:1: DtypeWarning: Columns (3) have mixed types. Specify dtype option on import or set low_memory=False.\n",
            "  books=pd.read_csv('/content/drive/MyDrive/445projectData/Books.csv')\n"
          ]
        }
      ],
      "source": [
        "books=pd.read_csv('Books.csv')\n",
        "users=pd.read_csv('Users.csv')\n",
        "ratings=pd.read_csv('Ratings.csv')"
      ]
    },
    {
      "cell_type": "code",
      "execution_count": null,
      "metadata": {
        "id": "ph5Vv74rJXT6"
      },
      "outputs": [],
      "source": [
        "books.head()"
      ]
    },
    {
      "cell_type": "code",
      "execution_count": null,
      "metadata": {
        "id": "lNK1Uw5WJo69"
      },
      "outputs": [],
      "source": [
        "# Modify the DataFrame in place\n",
        "books.drop(['Image-URL-S', 'Image-URL-L'], axis=1, inplace=True)\n",
        "\n",
        "books.shape"
      ]
    },
    {
      "cell_type": "code",
      "execution_count": null,
      "metadata": {
        "id": "mRar7GJxJpG2"
      },
      "outputs": [],
      "source": [
        "books.head()"
      ]
    },
    {
      "cell_type": "code",
      "execution_count": null,
      "metadata": {
        "id": "emAyhaVXJpRj"
      },
      "outputs": [],
      "source": [
        "ratings.head()"
      ]
    },
    {
      "cell_type": "code",
      "execution_count": null,
      "metadata": {
        "id": "_VU3FyPRJyEV"
      },
      "outputs": [],
      "source": [
        "users.head()"
      ]
    },
    {
      "cell_type": "markdown",
      "metadata": {
        "id": "sBdkMD0CJ2e4"
      },
      "source": [
        "**Display shape of Dataframe**"
      ]
    },
    {
      "cell_type": "code",
      "execution_count": null,
      "metadata": {
        "id": "KYJ2XrczJyH8"
      },
      "outputs": [],
      "source": [
        "print(\"Info:\")\n",
        "print(books.info())\n",
        "print(users.info())\n",
        "print(ratings.info())"
      ]
    },
    {
      "cell_type": "markdown",
      "metadata": {
        "id": "0v8brwUkKDqy"
      },
      "source": [
        "**Check Null Values**"
      ]
    },
    {
      "cell_type": "code",
      "execution_count": null,
      "metadata": {
        "id": "VMI5uOS0KJRR"
      },
      "outputs": [],
      "source": [
        "# Check for null values in the Books dataset\n",
        "books_null = books.isnull().sum()\n",
        "print(\"Null values in Books dataset:\\n\", books_null)\n",
        "\n",
        "# Check for null values in the Users dataset\n",
        "users_null = users.isnull().sum()\n",
        "print(\"\\nNull values in Users dataset:\\n\", users_null)\n",
        "\n",
        "# Check for null values in the Ratings dataset\n",
        "ratings_null = ratings.isnull().sum()\n",
        "print(\"\\nNull values in Ratings dataset:\\n\", ratings_null)"
      ]
    },
    {
      "cell_type": "markdown",
      "metadata": {
        "id": "-w1Q1u1ZKOCT"
      },
      "source": [
        "**Missing Data Handle**"
      ]
    },
    {
      "cell_type": "code",
      "execution_count": null,
      "metadata": {
        "id": "3hz8qevcKSjv"
      },
      "outputs": [],
      "source": [
        "mean_value_column = users['Age'].mean()\n",
        "\n",
        "# Fill missing values with the mean values of ages\n",
        "users['Age'] = users['Age'].fillna(mean_value_column)"
      ]
    },
    {
      "cell_type": "code",
      "execution_count": null,
      "metadata": {
        "id": "t7vePmqlKVUs"
      },
      "outputs": [],
      "source": [
        "users.head()"
      ]
    },
    {
      "cell_type": "markdown",
      "metadata": {
        "id": "LoV77Q_UKX_h"
      },
      "source": [
        "**After Handling missing data**"
      ]
    },
    {
      "cell_type": "code",
      "execution_count": null,
      "metadata": {
        "id": "cTHprvNXKg6_"
      },
      "outputs": [],
      "source": [
        "# Check for null values in the Users dataset\n",
        "users_null = users.isnull().sum()\n",
        "print(\"\\nNull values in Users dataset:\\n\", users_null)"
      ]
    },
    {
      "cell_type": "code",
      "execution_count": null,
      "metadata": {
        "id": "kvYpPBVwKldN"
      },
      "outputs": [],
      "source": [
        "# Display data types of columns in the Books dataset\n",
        "print(\"Data types in Books dataset:\\n\", books.dtypes)\n",
        "\n",
        "# Display data types of columns in the Users dataset\n",
        "print(\"\\nData types in Users dataset:\\n\", users.dtypes)\n",
        "\n",
        "# Display data types of columns in the Ratings dataset\n",
        "print(\"\\nData types in Ratings dataset:\\n\", ratings.dtypes)"
      ]
    },
    {
      "cell_type": "code",
      "execution_count": null,
      "metadata": {
        "id": "-AGrdj8MKs74"
      },
      "outputs": [],
      "source": [
        "# Assuming 'books', 'users', and 'ratings' are your DataFrames\n",
        "print(\"Books DataFrame:\")\n",
        "print(books.describe())\n",
        "\n",
        "print(\"\\nUsers DataFrame:\")\n",
        "print(users.describe())\n",
        "\n",
        "print(\"\\nRatings DataFrame:\")\n",
        "print(ratings.describe())\n"
      ]
    },
    {
      "cell_type": "markdown",
      "metadata": {
        "id": "ud3VHJh8KyQ9"
      },
      "source": [
        "**Row drop for better ML performance**"
      ]
    },
    {
      "cell_type": "code",
      "execution_count": null,
      "metadata": {
        "id": "a9eKT0edK5c-"
      },
      "outputs": [],
      "source": [
        "print(\"Book Shape: \")\n",
        "print(books.shape)\n",
        "\n",
        "print(\"User Shape\")\n",
        "print(users.shape)\n",
        "\n",
        "print(\"Rating Shape\")\n",
        "print(ratings.shape)"
      ]
    },
    {
      "cell_type": "code",
      "execution_count": null,
      "metadata": {
        "id": "upGgElmhK8xW"
      },
      "outputs": [],
      "source": [
        "ratings['User-ID'].value_counts()"
      ]
    },
    {
      "cell_type": "code",
      "execution_count": null,
      "metadata": {
        "id": "1ZXokrWrK_ba"
      },
      "outputs": [],
      "source": [
        "ratings['User-ID'].unique().shape"
      ]
    },
    {
      "cell_type": "code",
      "execution_count": null,
      "metadata": {
        "id": "n-ROxDCdK_fD"
      },
      "outputs": [],
      "source": [
        "x=ratings['User-ID'].value_counts() > 100\n",
        "x[x].shape"
      ]
    },
    {
      "cell_type": "code",
      "execution_count": null,
      "metadata": {
        "id": "hPmfD5aaLFKb"
      },
      "outputs": [],
      "source": [
        "y=x[x].index\n",
        "y"
      ]
    },
    {
      "cell_type": "markdown",
      "metadata": {
        "id": "Rf1nn3fjLMLY"
      },
      "source": [
        "**Removed the rows from \"ratings DF\" of the users who rated less than 100 book**"
      ]
    },
    {
      "cell_type": "code",
      "execution_count": null,
      "metadata": {
        "id": "hnrLsJU8LQ5m"
      },
      "outputs": [],
      "source": [
        "ratings= ratings[ratings['User-ID'].isin(y)]\n",
        "ratings.head(2)"
      ]
    },
    {
      "cell_type": "code",
      "execution_count": null,
      "metadata": {
        "id": "-jB5hRBFLTgm"
      },
      "outputs": [],
      "source": [
        "ratings.shape"
      ]
    },
    {
      "cell_type": "markdown",
      "metadata": {
        "id": "F37hXgf4LWRH"
      },
      "source": [
        "**Merge Books with Ratings for for better understanding**"
      ]
    },
    {
      "cell_type": "code",
      "execution_count": null,
      "metadata": {
        "id": "Gs4Oa7yCLZzN"
      },
      "outputs": [],
      "source": [
        "merge_data = pd.merge(books, ratings, on='ISBN')\n",
        "merge_data.shape"
      ]
    },
    {
      "cell_type": "code",
      "execution_count": null,
      "metadata": {
        "id": "Ha-nQ-8JLcxK"
      },
      "outputs": [],
      "source": [
        "merge_data.head(2)"
      ]
    },
    {
      "cell_type": "markdown",
      "metadata": {
        "id": "dWB_RoPWMR05"
      },
      "source": [
        "**Now removing the rows of the books which are not rated more than 50 times**"
      ]
    },
    {
      "cell_type": "code",
      "execution_count": null,
      "metadata": {
        "id": "ec_1fdowMWtD"
      },
      "outputs": [],
      "source": [
        "num_rating = merge_data.groupby('Book-Title')['Book-Rating'].count().reset_index()"
      ]
    },
    {
      "cell_type": "code",
      "execution_count": null,
      "metadata": {
        "id": "7faoccyLMjVH"
      },
      "outputs": [],
      "source": [
        "num_rating.head(2)"
      ]
    },
    {
      "cell_type": "code",
      "execution_count": null,
      "metadata": {
        "id": "EBcbQuyPMmK6"
      },
      "outputs": [],
      "source": [
        "num_rating.rename(columns={\"Book-Rating\": \"num_of_rating\"}, inplace=True)\n",
        "num_rating.head()"
      ]
    },
    {
      "cell_type": "code",
      "execution_count": null,
      "metadata": {
        "id": "BYX3qQtkMoc-"
      },
      "outputs": [],
      "source": [
        "merge_data=merge_data.merge(num_rating, on='Book-Title')\n",
        "\n",
        "merge_data.head()"
      ]
    },
    {
      "cell_type": "code",
      "execution_count": null,
      "metadata": {
        "id": "HzPLQoMDMtF1"
      },
      "outputs": [],
      "source": [
        "merge_data.shape"
      ]
    },
    {
      "cell_type": "code",
      "execution_count": null,
      "metadata": {
        "id": "pB2k7-UrMv4f"
      },
      "outputs": [],
      "source": [
        "merge_data.rename(columns={'num_of_rating_x': 'num_of_rating'}, inplace=True)\n",
        "merge_data=merge_data[merge_data['num_of_rating']>=50]\n"
      ]
    },
    {
      "cell_type": "code",
      "execution_count": null,
      "metadata": {
        "id": "ierJwX4GMyNc"
      },
      "outputs": [],
      "source": [
        "merge_data.head(3)"
      ]
    },
    {
      "cell_type": "code",
      "execution_count": null,
      "metadata": {
        "id": "eZRb7xgZM0ir"
      },
      "outputs": [],
      "source": [
        "merge_data.sample(5)"
      ]
    },
    {
      "cell_type": "code",
      "execution_count": null,
      "metadata": {
        "id": "t2C-45RgM2sZ"
      },
      "outputs": [],
      "source": [
        "merge_data.shape"
      ]
    },
    {
      "cell_type": "code",
      "execution_count": null,
      "metadata": {
        "id": "VatY7lUJM5jM"
      },
      "outputs": [],
      "source": [
        "merge_data.drop_duplicates(['User-ID','Book-Title'],inplace= True)\n",
        "merge_data.shape"
      ]
    },
    {
      "cell_type": "code",
      "execution_count": null,
      "metadata": {
        "id": "VBGMqo9wM8Gv"
      },
      "outputs": [],
      "source": [
        "merge_data.head(2)"
      ]
    },
    {
      "cell_type": "code",
      "execution_count": null,
      "metadata": {
        "id": "KRZaNSWWM_E2"
      },
      "outputs": [],
      "source": [
        "book_pivot= merge_data.pivot_table(columns='User-ID', index='Book-Title',values='Book-Rating')\n",
        "book_pivot"
      ]
    },
    {
      "cell_type": "code",
      "execution_count": null,
      "metadata": {
        "id": "-f_ATEuCNCZV"
      },
      "outputs": [],
      "source": [
        "book_pivot.shape"
      ]
    },
    {
      "cell_type": "code",
      "execution_count": null,
      "metadata": {
        "id": "waX5TiKGNEo2"
      },
      "outputs": [],
      "source": [
        "book_pivot.fillna(0,inplace=True)\n",
        "book_pivot"
      ]
    },
    {
      "cell_type": "markdown",
      "metadata": {
        "id": "fgzo4KoKNOZ9"
      },
      "source": [
        "**Visiualization**"
      ]
    },
    {
      "cell_type": "code",
      "execution_count": null,
      "metadata": {
        "id": "Kq_Cg-08NVmt"
      },
      "outputs": [],
      "source": [
        "books.head(10)"
      ]
    },
    {
      "cell_type": "code",
      "execution_count": null,
      "metadata": {
        "id": "FyQStSTENbN3"
      },
      "outputs": [],
      "source": [
        "sns.countplot(data=books, x='Year-Of-Publication', order=books['Year-Of-Publication'].value_counts().index[:10])\n",
        "plt.title('Top Years of Publication for Books')\n",
        "plt.xlabel('Year of Publication')\n",
        "plt.ylabel('Count')\n",
        "plt.xticks(rotation=45, ha='right')  # Rotate x-axis labels for better readability\n",
        "plt.show()"
      ]
    },
    {
      "cell_type": "code",
      "execution_count": null,
      "metadata": {
        "id": "pOYBEr9bNc0r"
      },
      "outputs": [],
      "source": [
        "# Get the top 20 years of publication\n",
        "top_years = books['Year-Of-Publication'].value_counts().index[:10]\n",
        "\n",
        "# Create a countplot for the top 20 years of publication\n",
        "plt.figure(figsize=(8, 6))\n",
        "ax = sns.countplot(data=books[books['Year-Of-Publication'].isin(top_years)],\n",
        "                   x='Year-Of-Publication', order=top_years)\n",
        "\n",
        "# Add count annotations on top of each bar\n",
        "for p in ax.patches:\n",
        "    ax.annotate(f'{p.get_height()}', (p.get_x() + p.get_width() / 2., p.get_height()), ha='center',\n",
        "                va='center', xytext=(0, 10), textcoords='offset points')\n",
        "\n",
        "plt.title('Top 10 Years of Publication for Books')\n",
        "plt.xlabel('Year of Publication')\n",
        "plt.ylabel('Count')\n",
        "plt.xticks(rotation=45, ha='right')  # Rotate x-axis labels for better readability\n",
        "plt.show()"
      ]
    },
    {
      "cell_type": "code",
      "execution_count": null,
      "metadata": {
        "id": "rOxAhMg0NiuC"
      },
      "outputs": [],
      "source": [
        "# Count the number of books for each author\n",
        "author_book_count = books['Book-Author'].value_counts().head(20)\n",
        "\n",
        "# Create a bar plot for the top 10 authors\n",
        "ax = sns.barplot(x=author_book_count.values, y=author_book_count.index, palette='viridis')\n",
        "\n",
        "# Add count annotations on top of each bar\n",
        "for p in ax.patches:\n",
        "    ax.annotate(f'{p.get_width()}', (p.get_width(), p.get_y() + p.get_height() / 2),\n",
        "                ha='left', va='center', xytext=(2, 0), textcoords='offset points')\n",
        "\n",
        "plt.title('Top 20 Authors with Most Books')\n",
        "plt.xlabel('Number of Books')\n",
        "plt.ylabel('Author')\n",
        "plt.show()"
      ]
    },
    {
      "cell_type": "code",
      "execution_count": null,
      "metadata": {
        "id": "0IuKl9ehNkLw"
      },
      "outputs": [],
      "source": [
        "# Count the number of books for each publisher\n",
        "publisher_book_count = books['Publisher'].value_counts().head(20)\n",
        "\n",
        "# Create a bar plot for the top 20 publishers\n",
        "sns.barplot(x=publisher_book_count.values, y=publisher_book_count.index, palette='Set3')\n",
        "\n",
        "\n",
        "plt.title('Top 20 Publishers with Most Books Published')\n",
        "plt.xlabel('Number of Books Published')\n",
        "plt.ylabel('Publisher')\n",
        "plt.show()"
      ]
    },
    {
      "cell_type": "code",
      "execution_count": null,
      "metadata": {
        "id": "Yivt3M9ANr3I"
      },
      "outputs": [],
      "source": [
        "# Filter the 'users' DataFrame for ages up to 100\n",
        "selected_users = users[users['Age'] <= 80]\n",
        "\n",
        "# Set a custom color palette\n",
        "custom_palette = sns.color_palette(\"pastel\")\n",
        "\n",
        "# Plotting a box plot for age distribution\n",
        "plt.figure(figsize=(12, 4))\n",
        "sns.boxplot(x=selected_users['Age'], color=custom_palette[3], width=0.8, fliersize=5)\n",
        "\n",
        "# Add labels and title\n",
        "plt.title('Box Plot of User Age Distribution')\n",
        "plt.xlabel('User Age')\n",
        "plt.ylabel('Age Distribution')\n",
        "\n",
        "plt.show()"
      ]
    },
    {
      "cell_type": "code",
      "execution_count": null,
      "metadata": {
        "id": "Jx323jD_NvV7"
      },
      "outputs": [],
      "source": [
        "selected_users = users[users['Age'] <= 80]\n",
        "\n",
        "# Set a custom color palette\n",
        "custom_palette = sns.color_palette(\"pastel\")\n",
        "\n",
        "# Plotting a histogram for age distribution\n",
        "sns.histplot(selected_users['Age'], bins=30, color=custom_palette[2], kde=False)\n",
        "\n",
        "# Add labels and title\n",
        "plt.title('Histogram of User Age Distribution', fontsize=16)\n",
        "plt.xlabel('User Age', fontsize=14)\n",
        "plt.ylabel('Frequency', fontsize=14)\n",
        "\n",
        "# Customize the axes\n",
        "plt.xticks(fontsize=12)\n",
        "plt.yticks(fontsize=12)\n",
        "\n",
        "# Show the plot\n",
        "plt.show()"
      ]
    },
    {
      "cell_type": "code",
      "execution_count": null,
      "metadata": {
        "id": "5mQP3Kk0NwyN"
      },
      "outputs": [],
      "source": [
        "# Now lets see the distrbution of the users by the country\n",
        "\n",
        "# Let's extract the country from location column in the users dataset\n",
        "\n",
        "countries = []\n",
        "cond = users['Location'].str.split(',')\n",
        "\n",
        "for cont in cond:\n",
        "\n",
        "    countries.append(cont[-1])\n",
        "# Now we have extracted the countries, let's assign the countries to the dataset\n",
        "\n",
        "users['Country'] = countries\n",
        "users.head()"
      ]
    },
    {
      "cell_type": "code",
      "execution_count": null,
      "metadata": {
        "id": "2p3gqAyPNz-p"
      },
      "outputs": [],
      "source": [
        "# Check for null values in the 'Country' column\n",
        "null_countries = users['Country'].isnull().sum()\n",
        "\n",
        "# Print the number of null values in the 'Country' column\n",
        "print(f\"There are {null_countries} null values in the 'Country' column.\")"
      ]
    },
    {
      "cell_type": "code",
      "execution_count": null,
      "metadata": {
        "id": "wLPZq0dpN6DP"
      },
      "outputs": [],
      "source": [
        "unique_countries = users['Country'].unique()\n",
        "\n",
        "# Print the number of unique countries\n",
        "num_unique_countries = len(unique_countries)\n",
        "print(f\"There are {num_unique_countries} unique countries in the dataset.\")"
      ]
    },
    {
      "cell_type": "code",
      "execution_count": null,
      "metadata": {
        "id": "lNmqkny_N86U"
      },
      "outputs": [],
      "source": [
        "# Get the original order of countries\n",
        "original_order = users['Country'].unique()\n",
        "\n",
        "# Get the top 10 countries without maintaining any specific order\n",
        "top_countries = users['Country'].value_counts().reindex(original_order).head(10)\n",
        "\n",
        "# Create a pie chart for the top 10 countries\n",
        "plt.figure(figsize=(12, 10))\n",
        "colors = sns.color_palette('pastel')\n",
        "plt.pie(top_countries, labels=top_countries.index, autopct='%.1f%%', colors=colors, startangle=90)\n",
        "plt.title('Top 10 Countries with Most Users (Pie Chart)')\n",
        "plt.show()"
      ]
    },
    {
      "cell_type": "code",
      "execution_count": null,
      "metadata": {
        "id": "fWZvZDq3OA37"
      },
      "outputs": [],
      "source": [
        "# Get the original order of countries\n",
        "original_order = users['Country'].unique()\n",
        "\n",
        "# Get the top 10 countries without maintaining any specific order\n",
        "top_countries = users['Country'].value_counts().reindex(original_order).head(10)\n",
        "\n",
        "# Create a line plot for the top 10 countries with a different color palette\n",
        "sns.lineplot(x=top_countries.index, y=top_countries.values, marker='o', color='skyblue')\n",
        "plt.title('Top 10 Countries with Most Users (Line Plot)')\n",
        "plt.xlabel('Country')\n",
        "plt.ylabel('Number of Users')\n",
        "plt.xticks(rotation=45, ha='right')  # Rotate x-axis labels for better readability\n",
        "plt.grid(True)\n",
        "plt.show()\n"
      ]
    },
    {
      "cell_type": "code",
      "execution_count": null,
      "metadata": {
        "id": "aei6sF9fOJzK"
      },
      "outputs": [],
      "source": [
        "# Get the counts of each rating\n",
        "rating_counts = ratings['Book-Rating'].value_counts()\n",
        "\n",
        "# Plot a histogram (bar plot) for the distribution of book ratings\n",
        "sns.barplot(x=rating_counts.index, y=rating_counts.values, palette='Paired')\n",
        "plt.title('Distribution of Book Ratings')\n",
        "plt.xlabel('Book Rating')\n",
        "plt.ylabel('Number of Ratings')\n",
        "\n",
        "# Add a line plot to represent the trend\n",
        "sns.lineplot(x=rating_counts.index, y=rating_counts.values, color='Green', marker='o')\n",
        "\n",
        "plt.show()"
      ]
    },
    {
      "cell_type": "code",
      "execution_count": null,
      "metadata": {
        "id": "PbSTumV5ON1H"
      },
      "outputs": [],
      "source": [
        "rating_counts = ratings['Book-Rating'].value_counts()\n",
        "plt.figure(figsize=(6, 30))\n",
        "colors = sns.color_palette('Paired')\n",
        "# Create pie chart\n",
        "plt.pie(rating_counts, labels=rating_counts.index, colors=colors, autopct='%.0f%%')\n",
        "plt.title('Distribution of Book Ratings')\n",
        "plt.show()\n"
      ]
    },
    {
      "cell_type": "code",
      "execution_count": null,
      "metadata": {
        "id": "7in7okUVORSi"
      },
      "outputs": [],
      "source": [
        "\n",
        "sns.countplot(x='Book-Rating', data=ratings, palette='pastel')\n",
        "plt.title('Distribution of Book Ratings')\n",
        "plt.xlabel('Rating')\n",
        "plt.ylabel('Count')\n",
        "plt.show()"
      ]
    },
    {
      "cell_type": "code",
      "execution_count": null,
      "metadata": {
        "id": "CTmBAZTNOTSq"
      },
      "outputs": [],
      "source": [
        "merge_data2=pd.merge(ratings, books, on='ISBN', how='inner')"
      ]
    },
    {
      "cell_type": "code",
      "execution_count": null,
      "metadata": {
        "id": "_20sORrTOVsF"
      },
      "outputs": [],
      "source": [
        "authors_top20 = books['Book-Author'].value_counts().head(10)\n",
        "authors_top20 = list(authors_top20.index)\n",
        "merge_data2.dropna(inplace=True)\n",
        "top20_authors = pd.DataFrame(columns = merge_data2.columns)\n",
        "\n",
        "for author in authors_top20:\n",
        "\n",
        "    cond_df = merge_data2[merge_data2['Book-Author'] == author]\n",
        "\n",
        "    top20_authors =  pd.concat([top20_authors, cond_df], axis=0)\n",
        "\n",
        "    # There is no 0 rating, ratings is from 1-10 scale,\n",
        "# then 0 means the book is not rated that it is not rated so we are excluding the zero rating from our data\n",
        "top20_author = top20_authors[top20_authors['Book-Rating'] != 0]\n"
      ]
    },
    {
      "cell_type": "code",
      "execution_count": null,
      "metadata": {
        "id": "bUtKlK1UOaRn"
      },
      "outputs": [],
      "source": [
        "top20_author = top20_author.groupby('Book-Author')['Book-Rating'].agg('mean').reset_index().sort_values(by='Book-Rating', ascending=False)\n",
        "top20_author.head()\n"
      ]
    },
    {
      "cell_type": "code",
      "execution_count": null,
      "metadata": {
        "id": "qdLX2rNUOb2r"
      },
      "outputs": [],
      "source": [
        "sns.barplot(x='Book-Author', y='Book-Rating', data=top20_author, palette='Paired')\n",
        "plt.title('Average Rating of Books for Top 10 Authors')\n",
        "plt.xlabel('Author')\n",
        "plt.ylabel('Average Rating')\n",
        "plt.xticks(rotation=45, ha='right')  # Rotate x-axis labels for better readability\n",
        "plt.show()"
      ]
    },
    {
      "cell_type": "code",
      "execution_count": null,
      "metadata": {
        "id": "DkOlT4dmOfxf"
      },
      "outputs": [],
      "source": [
        "pie_data = top20_author.groupby('Book-Author')['Book-Rating'].mean().reset_index()\n",
        "\n",
        "plt.figure(figsize=(6, 5))\n",
        "plt.pie(pie_data['Book-Rating'], labels=pie_data['Book-Author'], autopct='%1.1f%%', startangle=140)\n",
        "plt.title('Average Rating Distribution of Top 10 Authors')\n",
        "plt.show()"
      ]
    },
    {
      "cell_type": "code",
      "execution_count": null,
      "metadata": {
        "id": "txTIejSbOjok"
      },
      "outputs": [],
      "source": [
        "publishers_top20 = books['Publisher'].value_counts().head(20)\n",
        "publishers_top20 = list(publishers_top20.index)\n",
        "\n",
        "top20_publishers = pd.DataFrame(columns = merge_data.columns)\n",
        "\n",
        "for pub in publishers_top20:\n",
        "\n",
        "    cond_df = merge_data[merge_data['Publisher'] == pub]\n",
        "\n",
        "    top20_publishers =  pd.concat([top20_publishers, cond_df], axis=0)\n",
        "\n",
        "\n",
        "top20_publishers = top20_publishers[top20_publishers['Book-Rating'] != 0]\n",
        "top20_publishers = top20_publishers.groupby('Publisher')['Book-Rating'].agg('mean').reset_index().sort_values(by='Book-Rating', ascending=False)\n",
        "\n",
        "top20_publishers.head()"
      ]
    },
    {
      "cell_type": "code",
      "execution_count": null,
      "metadata": {
        "id": "br6rDKiqOmZz"
      },
      "outputs": [],
      "source": [
        "sns.barplot(x='Publisher', y='Book-Rating', data=top20_publishers, palette='Set2')\n",
        "plt.title('Average Rating of Books for Top 20 Publishers')\n",
        "plt.xlabel('Publisher')\n",
        "plt.ylabel('Average Rating')\n",
        "plt.xticks(rotation=45, ha='right')  # Rotate x-axis labels for better readability\n",
        "plt.show()"
      ]
    },
    {
      "cell_type": "code",
      "execution_count": null,
      "metadata": {
        "id": "y_IGF3F9OnvF"
      },
      "outputs": [],
      "source": [
        "#Merging the Users with the merge_data(merge of ratings and books) so that 3 CSV file become one dataframe and we can now connect with users for better understading of the dataset\n",
        "df = pd.merge(merge_data, users, on='User-ID')\n",
        "df.head()"
      ]
    },
    {
      "cell_type": "code",
      "execution_count": null,
      "metadata": {
        "id": "sbNIXbuGO7j9"
      },
      "outputs": [],
      "source": [
        "df_without_0_ratings=merge_data[merge_data['Book-Rating'] != 0]\n",
        "df_without_0_ratings.head()\n"
      ]
    },
    {
      "cell_type": "code",
      "execution_count": null,
      "metadata": {
        "id": "Ixd7tfF6PIUw"
      },
      "outputs": [],
      "source": [
        "most_rated_books = df_without_0_ratings['Book-Title'].value_counts().head(20)\n",
        "\n",
        "sns.barplot(x=most_rated_books.values, y=most_rated_books.index, palette='viridis')\n",
        "plt.title('Most Rated Books')\n",
        "plt.xlabel('Number of Ratings')\n",
        "plt.ylabel('Book Title')\n",
        "plt.xticks(rotation=45, ha='right')  # Rotate x-axis labels for better readability\n",
        "plt.show()"
      ]
    },
    {
      "cell_type": "code",
      "execution_count": null,
      "metadata": {
        "id": "P6vkSkxfPNmV"
      },
      "outputs": [],
      "source": [
        "#top rated books\n",
        "books_top20 = df_without_0_ratings['Book-Title'].value_counts().head(20)\n",
        "books_top20 = list(books_top20.index)\n",
        "\n",
        "top20_books = pd.DataFrame(columns = merge_data.columns)\n",
        "\n",
        "for book in books_top20:\n",
        "\n",
        "    cond_df = merge_data[merge_data['Book-Title'] == book]\n",
        "\n",
        "    top20_books =  pd.concat([top20_books, cond_df], axis=0)\n",
        "\n",
        "\n",
        "top20_books = top20_books[top20_books['Book-Rating'] != 0]\n",
        "top20_books = top20_books.groupby('Book-Title')['Book-Rating'].agg('mean').reset_index().sort_values(by='Book-Rating', ascending=False)\n",
        "\n",
        "top10_books = top20_books.head(10)\n",
        "top10_books"
      ]
    },
    {
      "cell_type": "code",
      "execution_count": null,
      "metadata": {
        "id": "XQabu0KRPZSC"
      },
      "outputs": [],
      "source": [
        "barplot = sns.barplot(x='Book-Rating', y='Book-Title', data=top20_books, palette='Set3')\n",
        "\n",
        "# Display average rating values on each bar\n",
        "for p in barplot.patches:\n",
        "    barplot.annotate(f'{p.get_width():.2f}', (p.get_width(), p.get_y() + p.get_height() / 2.),\n",
        "                     ha='center', va='center', fontsize=10, color='black', xytext=(2, 0),\n",
        "                     textcoords='offset points')\n",
        "\n",
        "plt.title('Average Rating of Top 20 Books')\n",
        "plt.xlabel('Average Rating')\n",
        "plt.ylabel('Book Title')\n",
        "plt.show()"
      ]
    },
    {
      "cell_type": "code",
      "execution_count": null,
      "metadata": {
        "id": "aB_oj5ULPhvS"
      },
      "outputs": [],
      "source": [
        "#Correlation matrix\n",
        "correlation_matrix = df.corr()\n",
        "\n",
        "# Plot the correlation matrix as a heatmap\n",
        "sns.heatmap(correlation_matrix, annot=True, cmap='cividis', fmt='.2f', linewidths=0.5)\n",
        "plt.title('Correlation Matrix')\n",
        "plt.show()"
      ]
    },
    {
      "cell_type": "markdown",
      "metadata": {
        "id": "k3vs9fsCQe_2"
      },
      "source": [
        "**Training**"
      ]
    },
    {
      "cell_type": "code",
      "execution_count": null,
      "metadata": {
        "id": "OmXgf-mUQnko"
      },
      "outputs": [],
      "source": [
        "from scipy.sparse import csr_matrix"
      ]
    },
    {
      "cell_type": "code",
      "execution_count": null,
      "metadata": {
        "id": "MlPG5mNuRyBP"
      },
      "outputs": [],
      "source": [
        "book_sparse=csr_matrix(book_pivot)\n",
        "book_sparse"
      ]
    },
    {
      "cell_type": "code",
      "execution_count": null,
      "metadata": {
        "id": "97PJiHnFR1Y5"
      },
      "outputs": [],
      "source": [
        "from sklearn.neighbors import NearestNeighbors\n",
        "model=NearestNeighbors(algorithm='brute')"
      ]
    },
    {
      "cell_type": "code",
      "execution_count": null,
      "metadata": {
        "id": "ikqJpIypR2Si"
      },
      "outputs": [],
      "source": [
        "model.fit(book_sparse)\n",
        "NearestNeighbors(algorithm='brute')"
      ]
    },
    {
      "cell_type": "code",
      "execution_count": null,
      "metadata": {
        "id": "QM6to3TBR7Ks"
      },
      "outputs": [],
      "source": [
        "distance,suggestion=model.kneighbors(book_pivot.iloc[237,:].values.reshape(1,-1),n_neighbors=6)\n",
        "distance"
      ]
    },
    {
      "cell_type": "code",
      "execution_count": null,
      "metadata": {
        "id": "SCYeFwc-R8WC"
      },
      "outputs": [],
      "source": [
        "suggestion"
      ]
    },
    {
      "cell_type": "code",
      "execution_count": null,
      "metadata": {
        "id": "BohwgemYR_hD"
      },
      "outputs": [],
      "source": [
        "for i in range(len(suggestion)):\n",
        "     print (book_pivot.index[suggestion[i]])"
      ]
    },
    {
      "cell_type": "code",
      "execution_count": null,
      "metadata": {
        "id": "H_e1tuRaSDYc"
      },
      "outputs": [],
      "source": [
        "book_pivot.index[3]"
      ]
    },
    {
      "cell_type": "code",
      "execution_count": null,
      "metadata": {
        "id": "bnmA2VPpSFb8"
      },
      "outputs": [],
      "source": [
        "book_pivot.index"
      ]
    },
    {
      "cell_type": "code",
      "execution_count": null,
      "metadata": {
        "id": "J-rC_PhuSHc1"
      },
      "outputs": [],
      "source": [
        "books_name=book_pivot.index"
      ]
    },
    {
      "cell_type": "code",
      "execution_count": null,
      "metadata": {
        "id": "7q-c3vyDSMas"
      },
      "outputs": [],
      "source": [
        "import pickle\n",
        "pickle.dump(model,open('/content/drive/MyDrive/445projectData/Model.pk1','wb'))\n",
        "pickle.dump(books_name,open('/content/drive/MyDrive/445projectData/Model/books_name.pk1','wb'))\n",
        "pickle.dump(merge_data,open('/content/drive/MyDrive/445projectData/Model/merge_data.pk1','wb'))\n",
        "pickle.dump(book_pivot,open('/content/drive/MyDrive/445projectData/Model/book_pivot.pk1','wb'))"
      ]
    },
    {
      "cell_type": "code",
      "execution_count": null,
      "metadata": {
        "id": "HU_nsF_9SRb9"
      },
      "outputs": [],
      "source": [
        "def recommend(book_name):\n",
        "   book_id=np.where(book_pivot.index==book_name)[0][0]\n",
        "   distance,suggestion=model.kneighbors(book_pivot.iloc[book_id,:].values.reshape(1,-1),n_neighbors=6)\n",
        "   for i in range(len(suggestion)):\n",
        "        books=book_pivot.index[suggestion[i]]\n",
        "        for  j in books:\n",
        "           print(j)"
      ]
    },
    {
      "cell_type": "code",
      "execution_count": null,
      "metadata": {
        "id": "DHIKxY6dSTq3"
      },
      "outputs": [],
      "source": [
        "book_name ='A Bend in the Road'\n",
        "recommend(book_name)"
      ]
    },
    {
      "cell_type": "code",
      "execution_count": null,
      "metadata": {
        "id": "R92BJ3roSVVl"
      },
      "outputs": [],
      "source": [
        "books.head(10)"
      ]
    }
  ],
  "metadata": {
    "colab": {
      "provenance": []
    },
    "kernelspec": {
      "display_name": "Python 3",
      "name": "python3"
    },
    "language_info": {
      "codemirror_mode": {
        "name": "ipython",
        "version": 3
      },
      "file_extension": ".py",
      "mimetype": "text/x-python",
      "name": "python",
      "nbconvert_exporter": "python",
      "pygments_lexer": "ipython3",
      "version": "3.9.1"
    }
  },
  "nbformat": 4,
  "nbformat_minor": 0
}
